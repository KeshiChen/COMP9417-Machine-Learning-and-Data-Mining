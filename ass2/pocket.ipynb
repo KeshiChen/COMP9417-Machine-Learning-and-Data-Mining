{
 "cells": [
  {
   "cell_type": "code",
   "execution_count": 468,
   "metadata": {},
   "outputs": [],
   "source": [
    "import numpy as np\n",
    "import random\n",
    "\n",
    "\n",
    "def pocket(data_vec,Learning_rate_n,m):\n",
    "    Wpk,Wpe = np.random.rand(1,data_vec.shape[1]),np.random.rand(1,data_vec.shape[1])\n",
    "    rpk,rpe,Pkt,Ppe,n= 0,0,0,0,m\n",
    "    data_vec[data_vec == 0] = -1\n",
    "    for i in range(m):\n",
    "        r = random.randint(0,data_vec.shape[1])        \n",
    "        if(dataset[r,-1]*(np.dot(dataset[r,:-1],Wpe[0,1:])+Wpe[0,0]) > 0): # correct \n",
    "            rpe += 1\n",
    "            \n",
    "            if(rpe > rpk):\n",
    "                Ppe = rpe\n",
    "            if(Ppe > Pkt):\n",
    "                Wpk = Wpe.copy()\n",
    "                rpk = rpe\n",
    "                Pkt = Ppe\n",
    "                if(Pkt == data_vec.shape[0]):\n",
    "                    n = i + 1\n",
    "                    break\n",
    "        else:\n",
    "            Wpe[0,0] = Wpe[0,0]*Learning_rate_n*data_vec[r,-1]\n",
    "            Wpe[0,1:] = Wpe[0,1:] + Learning_rate_n*dataset[r,:-1]*Wpe[0,1:]\n",
    "            rpe = 0 \n",
    "    rate =(np.dot(data_vec[:,:-1],Wpk[0,1:])+ Wpk[0,0])*data_vec[:,-1]\n",
    "    rate = sign(rate)\n",
    "    rate[rate == -1] = 0\n",
    "    rate = sum(rate)/rate.shape[0]\n",
    "    return rate,Wpk,n"
   ]
  },
  {
   "cell_type": "code",
   "execution_count": null,
   "metadata": {},
   "outputs": [],
   "source": []
  },
  {
   "cell_type": "code",
   "execution_count": 478,
   "metadata": {},
   "outputs": [
    {
     "name": "stdout",
     "output_type": "stream",
     "text": [
      "[[-1 -1 -1]\n",
      " [-1 -1 -1]\n",
      " [ 1  1  1]\n",
      " [-1  1  1]\n",
      " [ 1 -1  1]\n",
      " [ 1  1  1]\n",
      " [-1  1  1]\n",
      " [ 1 -1  1]\n",
      " [-1 -1 -1]\n",
      " [-1 -1 -1]\n",
      " [ 1  1  1]\n",
      " [-1  1  1]\n",
      " [ 1 -1  1]\n",
      " [-1 -1 -1]\n",
      " [-1 -1 -1]\n",
      " [ 1  1  1]\n",
      " [ 1  1  1]\n",
      " [-1 -1 -1]\n",
      " [ 1  1  1]]\n",
      "[[-0.19944072  0.22018888  0.4460876 ]]\n"
     ]
    },
    {
     "data": {
      "text/plain": [
       "(0.8421052631578947, array([[-0.19944072,  0.22018888,  0.4460876 ]]), 20)"
      ]
     },
     "execution_count": 478,
     "metadata": {},
     "output_type": "execute_result"
    }
   ],
   "source": [
    "dataset = np.array([[0,0,0],\n",
    "                    [0,0,0],\n",
    "                    [1,1,1],\n",
    "                    [0,1,1],\n",
    "                    [1,0,1],\n",
    "                    [1,1,1],\n",
    "                    [0,1,1],\n",
    "                    [1,0,1],\n",
    "                    [0,0,0],\n",
    "                    [0,0,0],\n",
    "                    [1,1,1],\n",
    "                    [0,1,1],\n",
    "                    [1,0,1],\n",
    "                    [0,0,0],\n",
    "                    [0,0,0],\n",
    "                    [1,1,1],\n",
    "                    [1,1,1],\n",
    "                    [0,0,0],\n",
    "                    [1,1,1]])   # OR function\n",
    "\n",
    "\n",
    "rate,Wpk,n= pocket(dataset,0.2,50)\n",
    "dataset[dataset == 0] = -1\n",
    "print(dataset)\n",
    "print(Wpk)\n",
    "\n",
    "rate,Wpk,n"
   ]
  },
  {
   "cell_type": "code",
   "execution_count": 477,
   "metadata": {},
   "outputs": [
    {
     "name": "stdout",
     "output_type": "stream",
     "text": [
      "[[-1 -1 -1]\n",
      " [-1 -1 -1]\n",
      " [-1  1 -1]\n",
      " [-1  1 -1]\n",
      " [ 1 -1 -1]\n",
      " [ 1 -1 -1]\n",
      " [ 1  1  1]\n",
      " [ 1  1  1]\n",
      " [ 1  1  1]\n",
      " [ 1 -1 -1]\n",
      " [ 1 -1 -1]\n",
      " [ 1 -1 -1]\n",
      " [ 1 -1 -1]\n",
      " [ 1  1  1]\n",
      " [ 1  1  1]\n",
      " [ 1  1  1]\n",
      " [ 1  1  1]\n",
      " [ 1  1  1]\n",
      " [ 1  1  1]\n",
      " [ 1 -1 -1]\n",
      " [ 1  1  1]\n",
      " [ 1  1  1]\n",
      " [ 1  1  1]\n",
      " [ 1 -1 -1]\n",
      " [ 1 -1 -1]\n",
      " [ 1  1  1]\n",
      " [ 1  1  1]\n",
      " [ 1  1  1]\n",
      " [ 1 -1 -1]\n",
      " [ 1  1  1]\n",
      " [ 1  1  1]\n",
      " [ 1  1  1]\n",
      " [ 1 -1 -1]]\n",
      "[[-0.052053    0.20720527  0.16986473]]\n"
     ]
    },
    {
     "data": {
      "text/plain": [
       "(1.0, array([[-0.052053  ,  0.20720527,  0.16986473]]), 35)"
      ]
     },
     "execution_count": 477,
     "metadata": {},
     "output_type": "execute_result"
    }
   ],
   "source": [
    "dataset = np.array([[0,0,0],\n",
    "                    [0,0,0],\n",
    "                    [0,1,0],\n",
    "                    [0,1,0],\n",
    "                    [1,0,0],\n",
    "                    [1,0,0],\n",
    "                    [1,1,1],\n",
    "                    [1,1,1],\n",
    "                    [1,1,1],\n",
    "                    [1,0,0],\n",
    "                    [1,0,0],\n",
    "                    [1,0,0],\n",
    "                    [1,0,0],\n",
    "                    [1,1,1],\n",
    "                    [1,1,1],\n",
    "                    [1,1,1],\n",
    "                    [1,1,1],\n",
    "                    [1,1,1],\n",
    "                    [1,1,1],\n",
    "                    [1,0,0],\n",
    "                    [1,1,1],\n",
    "                    [1,1,1],\n",
    "                    [1,1,1],\n",
    "                    [1,0,0],\n",
    "                    [1,0,0],\n",
    "                    [1,1,1],\n",
    "                    [1,1,1],\n",
    "                    [1,1,1],\n",
    "                    [1,0,0],\n",
    "                    [1,1,1],\n",
    "                    [1,1,1],\n",
    "                    [1,1,1],\n",
    "                    [1,0,0]\n",
    "                   ])          # AND function\n",
    "rate,Wpk,n = pocket(dataset,0.2,50)\n",
    "dataset[dataset == 0] = -1\n",
    "print(dataset)\n",
    "print(Wpk)\n",
    "\n",
    "\n",
    "rate,Wpk,n"
   ]
  },
  {
   "cell_type": "code",
   "execution_count": 487,
   "metadata": {},
   "outputs": [
    {
     "name": "stdout",
     "output_type": "stream",
     "text": [
      "[[-1 -1 -1]\n",
      " [-1  1  1]\n",
      " [ 1 -1  1]\n",
      " [ 1  1 -1]\n",
      " [-1  1  1]\n",
      " [ 1 -1  1]\n",
      " [ 1  1 -1]\n",
      " [-1  1  1]\n",
      " [ 1 -1  1]\n",
      " [ 1  1 -1]\n",
      " [-1  1  1]\n",
      " [ 1 -1  1]\n",
      " [ 1  1 -1]\n",
      " [ 1  1 -1]\n",
      " [-1  1  1]\n",
      " [ 1 -1  1]\n",
      " [ 1  1 -1]\n",
      " [-1  1  1]\n",
      " [ 1 -1  1]\n",
      " [ 1  1 -1]\n",
      " [ 1  1 -1]\n",
      " [-1  1  1]\n",
      " [ 1 -1  1]\n",
      " [ 1  1 -1]\n",
      " [-1  1  1]\n",
      " [ 1 -1  1]\n",
      " [ 1  1 -1]]\n",
      "[[0.00000000e+00 1.10033836e+10 1.10965888e+10]]\n"
     ]
    },
    {
     "data": {
      "text/plain": [
       "(0.3333333333333333,\n",
       " array([[0.00000000e+00, 1.10033836e+10, 1.10965888e+10]]),\n",
       " 20000)"
      ]
     },
     "execution_count": 487,
     "metadata": {},
     "output_type": "execute_result"
    }
   ],
   "source": [
    "dataset = np.array([[0,0,0],\n",
    "                    [0,1,1],\n",
    "                    [1,0,1],\n",
    "                    [1,1,0],\n",
    "                    [0,1,1],\n",
    "                    [1,0,1],\n",
    "                    [1,1,0],\n",
    "                    [0,1,1],\n",
    "                    [1,0,1],\n",
    "                    [1,1,0],\n",
    "                    [0,1,1],\n",
    "                    [1,0,1],\n",
    "                    [1,1,0],\n",
    "                    [1,1,0],\n",
    "                    [0,1,1],\n",
    "                    [1,0,1],\n",
    "                    [1,1,0],\n",
    "                    [0,1,1],\n",
    "                    [1,0,1],\n",
    "                    [1,1,0],\n",
    "                    [1,1,0],\n",
    "                    [0,1,1],\n",
    "                    [1,0,1],\n",
    "                    [1,1,0],\n",
    "                    [0,1,1],\n",
    "                    [1,0,1],   # XOR function\n",
    "                    [1,1,0]\n",
    "                   ])\n",
    "rate,Wpk,n = pocket(dataset,0.01,20000)\n",
    "dataset[dataset == 0] = -1\n",
    "print(dataset)\n",
    "print(Wpk)\n",
    "\n",
    "rate,Wpk,n"
   ]
  },
  {
   "cell_type": "code",
   "execution_count": null,
   "metadata": {},
   "outputs": [],
   "source": [
    "def MLP_pocket(data_vec,fraction_v,Learning_rate_n,m):\n",
    "    r,w,n = pocket(data_vec,Learning_rate_n,m)\n",
    "    N = w"
   ]
  },
  {
   "cell_type": "code",
   "execution_count": null,
   "metadata": {},
   "outputs": [],
   "source": [
    "def add_neuron_to_first_hidden_layer(data_vec):\n",
    "    "
   ]
  },
  {
   "cell_type": "code",
   "execution_count": null,
   "metadata": {},
   "outputs": [],
   "source": [
    "def "
   ]
  },
  {
   "cell_type": "code",
   "execution_count": null,
   "metadata": {},
   "outputs": [],
   "source": []
  },
  {
   "cell_type": "code",
   "execution_count": null,
   "metadata": {},
   "outputs": [],
   "source": []
  }
 ],
 "metadata": {
  "kernelspec": {
   "display_name": "Python 3",
   "language": "python",
   "name": "python3"
  },
  "language_info": {
   "codemirror_mode": {
    "name": "ipython",
    "version": 3
   },
   "file_extension": ".py",
   "mimetype": "text/x-python",
   "name": "python",
   "nbconvert_exporter": "python",
   "pygments_lexer": "ipython3",
   "version": "3.6.4"
  }
 },
 "nbformat": 4,
 "nbformat_minor": 2
}
